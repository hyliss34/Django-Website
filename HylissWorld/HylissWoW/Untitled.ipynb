{
 "cells": [
  {
   "cell_type": "code",
   "execution_count": 9,
   "metadata": {},
   "outputs": [],
   "source": [
    "from django.http import HttpRequest\n",
    "import json"
   ]
  },
  {
   "cell_type": "code",
   "execution_count": 1,
   "metadata": {},
   "outputs": [],
   "source": [
    "from modules import WowApiRequests as WApi\n",
    "\n",
    "serveur = \"ysondre\"\n",
    "pseudo = \"hyliss\"\n",
    "\n",
    "requete = WApi.WowRequest()"
   ]
  },
  {
   "cell_type": "code",
   "execution_count": 9,
   "metadata": {},
   "outputs": [
    {
     "name": "stdout",
     "output_type": "stream",
     "text": [
      "['averageItemLevel', 'averageItemLevelEquipped', 'head', 'neck', 'shoulder', 'back', 'chest', 'shirt', 'wrist', 'hands', 'waist', 'legs', 'feet', 'finger1', 'finger2', 'trinket1', 'trinket2', 'mainHand']\n"
     ]
    }
   ],
   "source": [
    "print(list(data.keys()))\n"
   ]
  },
  {
   "cell_type": "code",
   "execution_count": 2,
   "metadata": {},
   "outputs": [
    {
     "name": "stdout",
     "output_type": "stream",
     "text": [
      "https://render-eu.worldofwarcraft.com/icons/56/inv_helm_plate_raiddeathknight_s_01.jpg\n"
     ]
    }
   ],
   "source": [
    "headurl = requete.get_itemimageurl('inv_helm_plate_raiddeathknight_s_01.jpg')\n",
    "\n",
    "print(headurl)"
   ]
  },
  {
   "cell_type": "code",
   "execution_count": 18,
   "metadata": {},
   "outputs": [],
   "source": []
  },
  {
   "cell_type": "code",
   "execution_count": 11,
   "metadata": {},
   "outputs": [
    {
     "name": "stdout",
     "output_type": "stream",
     "text": [
      "{'2': 2}\n"
     ]
    }
   ],
   "source": [
    "context = {}\n",
    "context['2'] = 2\n",
    "print(context)"
   ]
  },
  {
   "cell_type": "code",
   "execution_count": 12,
   "metadata": {},
   "outputs": [
    {
     "name": "stdout",
     "output_type": "stream",
     "text": [
      "dict_keys(['averageItemLevel', 'averageItemLevelEquipped', 'head', 'neck', 'shoulder', 'back', 'chest', 'shirt', 'wrist', 'hands', 'waist', 'legs', 'feet', 'finger1', 'finger2', 'trinket1', 'trinket2', 'mainHand'])\n"
     ]
    }
   ],
   "source": [
    "print(data.keys())"
   ]
  },
  {
   "cell_type": "code",
   "execution_count": 2,
   "metadata": {},
   "outputs": [
    {
     "name": "stderr",
     "output_type": "stream",
     "text": [
      "/Users/Aure/Website/lib/python3.6/site-packages/urllib3/connectionpool.py:858: InsecureRequestWarning: Unverified HTTPS request is being made. Adding certificate verification is strongly advised. See: https://urllib3.readthedocs.io/en/latest/advanced-usage.html#ssl-warnings\n",
      "  InsecureRequestWarning)\n"
     ]
    },
    {
     "name": "stdout",
     "output_type": "stream",
     "text": [
      "{'lastModified': 1519240009000, 'name': 'Hyliss', 'realm': 'Ysondre', 'battlegroup': 'Vengeance / Rache', 'class': 1, 'race': 10, 'gender': 1, 'level': 110, 'achievementPoints': 23085, 'thumbnail': 'ysondre/76/99804748-avatar.jpg', 'calcClass': 'Z', 'faction': 1, 'appearance': {'faceVariation': 5, 'skinColor': 7, 'hairVariation': 17, 'hairColor': 6, 'featureVariation': 8, 'showHelm': True, 'showCloak': True, 'customDisplayOptions': [0, 0, 0]}, 'totalHonorableKills': 63137}\n"
     ]
    }
   ],
   "source": [
    "url_img_perso = \"https://render-eu.worldofwarcraft.com/character/ysondre/76/99804748-main.jpg\"\n",
    "print(requete.get_appearance(pseudo, serveur))"
   ]
  },
  {
   "cell_type": "code",
   "execution_count": null,
   "metadata": {},
   "outputs": [],
   "source": []
  }
 ],
 "metadata": {
  "kernelspec": {
   "display_name": "virtualenv-Website",
   "language": "python",
   "name": "virtualenv-website"
  },
  "language_info": {
   "codemirror_mode": {
    "name": "ipython",
    "version": 3
   },
   "file_extension": ".py",
   "mimetype": "text/x-python",
   "name": "python",
   "nbconvert_exporter": "python",
   "pygments_lexer": "ipython3",
   "version": "3.6.4"
  }
 },
 "nbformat": 4,
 "nbformat_minor": 2
}
